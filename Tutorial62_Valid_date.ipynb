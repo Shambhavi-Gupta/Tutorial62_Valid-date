{
  "nbformat": 4,
  "nbformat_minor": 0,
  "metadata": {
    "colab": {
      "name": "Tutorial62_Valid-date.ipynb",
      "provenance": [],
      "authorship_tag": "ABX9TyPguo9GvlffgXs+7XnneS8x",
      "include_colab_link": true
    },
    "kernelspec": {
      "name": "python3",
      "display_name": "Python 3"
    }
  },
  "cells": [
    {
      "cell_type": "markdown",
      "metadata": {
        "id": "view-in-github",
        "colab_type": "text"
      },
      "source": [
        "<a href=\"https://colab.research.google.com/github/Shambhavi-Gupta/Tutorial62_Valid-date/blob/main/Tutorial62_Valid_date.ipynb\" target=\"_parent\"><img src=\"https://colab.research.google.com/assets/colab-badge.svg\" alt=\"Open In Colab\"/></a>"
      ]
    },
    {
      "cell_type": "code",
      "metadata": {
        "id": "VxVOuvCfvNvp"
      },
      "source": [
        "day = int(input(\"Enter the day : \"))\r\n",
        "month = int(input(\"Enter the month : \"))\r\n",
        "year = int(input(\"Enter the year : \"))\r\n",
        "\r\n",
        "if month==1 or month==3 or month==5 or month==7 or month==8 or month==10 or month==12:\r\n",
        "    max_days = 31\r\n",
        "elif month==4 or month==6 or month==9 or month==11:\r\n",
        "    max_days = 30\r\n",
        "elif year%4==0 and year%100 != 0 or year%400 == 0:\r\n",
        "    max_days = 29\r\n",
        "else:\r\n",
        "    max_days = 28\r\n",
        "\r\n",
        "if month<1 or month>12:\r\n",
        "    print(\"Check the entered value !!\")\r\n",
        "elif day<1 or day>max_days:\r\n",
        "    print(\"Check the entered value !!\")\r\n",
        "elif year<1900 or year>2020:\r\n",
        "    print(\"Invalid year\")\r\n",
        "else :\r\n",
        "    print(\"Valid Input\")\r\n"
      ],
      "execution_count": null,
      "outputs": []
    }
  ]
}